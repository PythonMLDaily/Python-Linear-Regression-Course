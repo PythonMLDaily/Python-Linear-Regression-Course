{
 "cells": [
  {
   "cell_type": "code",
   "execution_count": 5,
   "id": "94562106-65e3-40b8-80a2-2dcccd0e0f3c",
   "metadata": {},
   "outputs": [
    {
     "data": {
      "text/html": [
       "<div>\n",
       "<style scoped>\n",
       "    .dataframe tbody tr th:only-of-type {\n",
       "        vertical-align: middle;\n",
       "    }\n",
       "\n",
       "    .dataframe tbody tr th {\n",
       "        vertical-align: top;\n",
       "    }\n",
       "\n",
       "    .dataframe thead th {\n",
       "        text-align: right;\n",
       "    }\n",
       "</style>\n",
       "<table border=\"1\" class=\"dataframe\">\n",
       "  <thead>\n",
       "    <tr style=\"text-align: right;\">\n",
       "      <th></th>\n",
       "      <th>level</th>\n",
       "      <th>years_of_experience</th>\n",
       "      <th>salary</th>\n",
       "    </tr>\n",
       "  </thead>\n",
       "  <tbody>\n",
       "    <tr>\n",
       "      <th>count</th>\n",
       "      <td>760.000000</td>\n",
       "      <td>760.000000</td>\n",
       "      <td>760.000000</td>\n",
       "    </tr>\n",
       "    <tr>\n",
       "      <th>mean</th>\n",
       "      <td>2.203947</td>\n",
       "      <td>5.234211</td>\n",
       "      <td>2839.484211</td>\n",
       "    </tr>\n",
       "    <tr>\n",
       "      <th>std</th>\n",
       "      <td>0.718097</td>\n",
       "      <td>2.948462</td>\n",
       "      <td>2071.858144</td>\n",
       "    </tr>\n",
       "    <tr>\n",
       "      <th>min</th>\n",
       "      <td>1.000000</td>\n",
       "      <td>1.000000</td>\n",
       "      <td>670.000000</td>\n",
       "    </tr>\n",
       "    <tr>\n",
       "      <th>25%</th>\n",
       "      <td>2.000000</td>\n",
       "      <td>3.000000</td>\n",
       "      <td>1800.000000</td>\n",
       "    </tr>\n",
       "    <tr>\n",
       "      <th>50%</th>\n",
       "      <td>2.000000</td>\n",
       "      <td>5.000000</td>\n",
       "      <td>2500.000000</td>\n",
       "    </tr>\n",
       "    <tr>\n",
       "      <th>75%</th>\n",
       "      <td>3.000000</td>\n",
       "      <td>8.000000</td>\n",
       "      <td>3300.000000</td>\n",
       "    </tr>\n",
       "    <tr>\n",
       "      <th>max</th>\n",
       "      <td>3.000000</td>\n",
       "      <td>10.000000</td>\n",
       "      <td>30000.000000</td>\n",
       "    </tr>\n",
       "  </tbody>\n",
       "</table>\n",
       "</div>"
      ],
      "text/plain": [
       "            level  years_of_experience        salary\n",
       "count  760.000000           760.000000    760.000000\n",
       "mean     2.203947             5.234211   2839.484211\n",
       "std      0.718097             2.948462   2071.858144\n",
       "min      1.000000             1.000000    670.000000\n",
       "25%      2.000000             3.000000   1800.000000\n",
       "50%      2.000000             5.000000   2500.000000\n",
       "75%      3.000000             8.000000   3300.000000\n",
       "max      3.000000            10.000000  30000.000000"
      ]
     },
     "execution_count": 5,
     "metadata": {},
     "output_type": "execute_result"
    }
   ],
   "source": [
    "import pandas as pd\n",
    "import numpy as np\n",
    "import matplotlib.pyplot as plt\n",
    "\n",
    "# pip3 install seaborn\n",
    "import seaborn as sns\n",
    "\n",
    "df = pd.read_csv('salaries-2023.csv')\n",
    "df = df.dropna()\n",
    "\n",
    "df.head()\n",
    "df.describe()"
   ]
  },
  {
   "cell_type": "code",
   "execution_count": 146,
   "id": "1c6c5e0e-c171-4cb5-bf34-ea334f08eaaf",
   "metadata": {},
   "outputs": [
    {
     "data": {
      "text/plain": [
       "(760, 5)"
      ]
     },
     "execution_count": 146,
     "metadata": {},
     "output_type": "execute_result"
    }
   ],
   "source": [
    "df.shape"
   ]
  },
  {
   "cell_type": "code",
   "execution_count": 147,
   "id": "74b6e1cb-c6d1-42e6-b8f2-e116abdd45f6",
   "metadata": {},
   "outputs": [
    {
     "data": {
      "text/plain": [
       "language\n",
       "php           217\n",
       "js            181\n",
       ".net          105\n",
       "java           93\n",
       "python         37\n",
       "go             26\n",
       "c++            24\n",
       "node           19\n",
       "kotlin         15\n",
       "ruby           14\n",
       "swift           6\n",
       "rust            4\n",
       "flutter         4\n",
       "sql             2\n",
       "sap             2\n",
       "scala           2\n",
       "salesforce      1\n",
       "vue             1\n",
       "blockchain      1\n",
       "devops          1\n",
       "progress        1\n",
       "openedge        1\n",
       "pascal          1\n",
       "uipath          1\n",
       "unity           1\n",
       "Name: count, dtype: int64"
      ]
     },
     "execution_count": 147,
     "metadata": {},
     "output_type": "execute_result"
    }
   ],
   "source": [
    "df.language.value_counts()"
   ]
  },
  {
   "cell_type": "code",
   "execution_count": 148,
   "id": "e30c77f5-4336-4342-af43-0628664e2edd",
   "metadata": {},
   "outputs": [
    {
     "data": {
      "text/plain": [
       "(596, 5)"
      ]
     },
     "execution_count": 148,
     "metadata": {},
     "output_type": "execute_result"
    }
   ],
   "source": [
    "allowed_languages = ['php', 'js', '.net', 'java']\n",
    "df = df[df['language'].isin(allowed_languages)]\n",
    "df.shape"
   ]
  },
  {
   "cell_type": "code",
   "execution_count": 149,
   "id": "a225500f-2efd-4751-ab12-fcbb3d228997",
   "metadata": {},
   "outputs": [
    {
     "data": {
      "text/plain": [
       "city\n",
       "Vilnius                     337\n",
       "Kaunas                      155\n",
       "Klaipėda                     11\n",
       "Vilniuje                      9\n",
       "JAV                           9\n",
       "UK                            8\n",
       "Kaune                         7\n",
       "Šiauliai                      7\n",
       "Vokietija                     6\n",
       "vilnius                       6\n",
       "Klaipeda                      4\n",
       "Danija                        4\n",
       "VILNIUS                       3\n",
       "Panevėžys                     2\n",
       "kaunas                        2\n",
       "Mažeikiai                     2\n",
       "Norvegija                     2\n",
       "Olandija                      2\n",
       "Šveicarija                    2\n",
       "Marijampole                   1\n",
       "Prancūzija                    1\n",
       "Rumsiskes                     1\n",
       "Birštonas                     1\n",
       "Jonava                        1\n",
       "Klaipėdoje                    1\n",
       "Pietų Afrikos Respublika      1\n",
       "KAUNAS                        1\n",
       "Baltarusija                   1\n",
       "Siauliai                      1\n",
       "VILNIUJE                      1\n",
       "Suomija                       1\n",
       "Panevezys                     1\n",
       "Alytus                        1\n",
       "Skandinavija                  1\n",
       "Tauragė                       1\n",
       "Vilniua                       1\n",
       "Vilniuj                       1\n",
       "Name: count, dtype: int64"
      ]
     },
     "execution_count": 149,
     "metadata": {},
     "output_type": "execute_result"
    }
   ],
   "source": [
    "df.city.value_counts()"
   ]
  },
  {
   "cell_type": "code",
   "execution_count": 150,
   "id": "dd09a929-22fd-4ee3-b013-175afb6aee3c",
   "metadata": {},
   "outputs": [
    {
     "data": {
      "text/plain": [
       "city\n",
       "Vilnius                     358\n",
       "Kaunas                      165\n",
       "Klaipėda                     11\n",
       "JAV                           9\n",
       "UK                            8\n",
       "Šiauliai                      7\n",
       "Vokietija                     6\n",
       "Danija                        4\n",
       "Klaipeda                      4\n",
       "Norvegija                     2\n",
       "Olandija                      2\n",
       "Šveicarija                    2\n",
       "Panevėžys                     2\n",
       "Mažeikiai                     2\n",
       "Birštonas                     1\n",
       "Jonava                        1\n",
       "Siauliai                      1\n",
       "Pietų Afrikos Respublika      1\n",
       "Baltarusija                   1\n",
       "Prancūzija                    1\n",
       "Marijampole                   1\n",
       "Suomija                       1\n",
       "Panevezys                     1\n",
       "Alytus                        1\n",
       "Tauragė                       1\n",
       "Klaipėdoje                    1\n",
       "Skandinavija                  1\n",
       "Rumsiskes                     1\n",
       "Name: count, dtype: int64"
      ]
     },
     "execution_count": 150,
     "metadata": {},
     "output_type": "execute_result"
    }
   ],
   "source": [
    "vilnius_names = ['Vilniuj', 'Vilniua', 'VILNIUJE', 'VILNIUS', 'vilnius', 'Vilniuje']\n",
    "condition = df['city'].isin(vilnius_names)\n",
    "df.loc[condition, 'city'] = 'Vilnius'\n",
    "\n",
    "kaunas_names = ['KAUNAS', 'kaunas', 'Kaune']\n",
    "condition = df['city'].isin(kaunas_names)\n",
    "df.loc[condition, 'city'] = 'Kaunas'\n",
    "\n",
    "df.city.value_counts()"
   ]
  },
  {
   "cell_type": "code",
   "execution_count": 151,
   "id": "d604d1a1-cdb3-4868-be5f-5a7a0423730b",
   "metadata": {},
   "outputs": [
    {
     "data": {
      "text/plain": [
       "(523, 5)"
      ]
     },
     "execution_count": 151,
     "metadata": {},
     "output_type": "execute_result"
    }
   ],
   "source": [
    "allowed_cities = ['Vilnius', 'Kaunas']\n",
    "df = df[df['city'].isin(allowed_cities)]\n",
    "df.shape"
   ]
  },
  {
   "cell_type": "code",
   "execution_count": 152,
   "id": "1b0a9640-39ae-4d17-a6cd-bf9287870f3e",
   "metadata": {},
   "outputs": [
    {
     "data": {
      "text/html": [
       "<div>\n",
       "<style scoped>\n",
       "    .dataframe tbody tr th:only-of-type {\n",
       "        vertical-align: middle;\n",
       "    }\n",
       "\n",
       "    .dataframe tbody tr th {\n",
       "        vertical-align: top;\n",
       "    }\n",
       "\n",
       "    .dataframe thead th {\n",
       "        text-align: right;\n",
       "    }\n",
       "</style>\n",
       "<table border=\"1\" class=\"dataframe\">\n",
       "  <thead>\n",
       "    <tr style=\"text-align: right;\">\n",
       "      <th></th>\n",
       "      <th>language</th>\n",
       "      <th>city</th>\n",
       "      <th>level</th>\n",
       "      <th>years_of_experience</th>\n",
       "      <th>salary</th>\n",
       "    </tr>\n",
       "  </thead>\n",
       "  <tbody>\n",
       "    <tr>\n",
       "      <th>148</th>\n",
       "      <td>js</td>\n",
       "      <td>Vilnius</td>\n",
       "      <td>3</td>\n",
       "      <td>6</td>\n",
       "      <td>14000</td>\n",
       "    </tr>\n",
       "    <tr>\n",
       "      <th>702</th>\n",
       "      <td>js</td>\n",
       "      <td>Vilnius</td>\n",
       "      <td>3</td>\n",
       "      <td>7</td>\n",
       "      <td>8400</td>\n",
       "    </tr>\n",
       "    <tr>\n",
       "      <th>607</th>\n",
       "      <td>.net</td>\n",
       "      <td>Vilnius</td>\n",
       "      <td>3</td>\n",
       "      <td>10</td>\n",
       "      <td>8000</td>\n",
       "    </tr>\n",
       "    <tr>\n",
       "      <th>141</th>\n",
       "      <td>php</td>\n",
       "      <td>Vilnius</td>\n",
       "      <td>3</td>\n",
       "      <td>10</td>\n",
       "      <td>7500</td>\n",
       "    </tr>\n",
       "    <tr>\n",
       "      <th>733</th>\n",
       "      <td>php</td>\n",
       "      <td>Vilnius</td>\n",
       "      <td>3</td>\n",
       "      <td>9</td>\n",
       "      <td>7000</td>\n",
       "    </tr>\n",
       "    <tr>\n",
       "      <th>27</th>\n",
       "      <td>js</td>\n",
       "      <td>Vilnius</td>\n",
       "      <td>3</td>\n",
       "      <td>9</td>\n",
       "      <td>6000</td>\n",
       "    </tr>\n",
       "    <tr>\n",
       "      <th>304</th>\n",
       "      <td>php</td>\n",
       "      <td>Kaunas</td>\n",
       "      <td>3</td>\n",
       "      <td>9</td>\n",
       "      <td>5500</td>\n",
       "    </tr>\n",
       "    <tr>\n",
       "      <th>337</th>\n",
       "      <td>php</td>\n",
       "      <td>Vilnius</td>\n",
       "      <td>3</td>\n",
       "      <td>10</td>\n",
       "      <td>5500</td>\n",
       "    </tr>\n",
       "    <tr>\n",
       "      <th>736</th>\n",
       "      <td>js</td>\n",
       "      <td>Vilnius</td>\n",
       "      <td>3</td>\n",
       "      <td>10</td>\n",
       "      <td>5300</td>\n",
       "    </tr>\n",
       "    <tr>\n",
       "      <th>460</th>\n",
       "      <td>js</td>\n",
       "      <td>Vilnius</td>\n",
       "      <td>3</td>\n",
       "      <td>10</td>\n",
       "      <td>5261</td>\n",
       "    </tr>\n",
       "    <tr>\n",
       "      <th>233</th>\n",
       "      <td>php</td>\n",
       "      <td>Kaunas</td>\n",
       "      <td>3</td>\n",
       "      <td>10</td>\n",
       "      <td>5000</td>\n",
       "    </tr>\n",
       "    <tr>\n",
       "      <th>193</th>\n",
       "      <td>php</td>\n",
       "      <td>Vilnius</td>\n",
       "      <td>3</td>\n",
       "      <td>10</td>\n",
       "      <td>5000</td>\n",
       "    </tr>\n",
       "    <tr>\n",
       "      <th>54</th>\n",
       "      <td>java</td>\n",
       "      <td>Kaunas</td>\n",
       "      <td>3</td>\n",
       "      <td>10</td>\n",
       "      <td>5000</td>\n",
       "    </tr>\n",
       "    <tr>\n",
       "      <th>183</th>\n",
       "      <td>php</td>\n",
       "      <td>Vilnius</td>\n",
       "      <td>3</td>\n",
       "      <td>10</td>\n",
       "      <td>5000</td>\n",
       "    </tr>\n",
       "    <tr>\n",
       "      <th>383</th>\n",
       "      <td>java</td>\n",
       "      <td>Vilnius</td>\n",
       "      <td>3</td>\n",
       "      <td>10</td>\n",
       "      <td>5000</td>\n",
       "    </tr>\n",
       "    <tr>\n",
       "      <th>163</th>\n",
       "      <td>java</td>\n",
       "      <td>Vilnius</td>\n",
       "      <td>3</td>\n",
       "      <td>5</td>\n",
       "      <td>5000</td>\n",
       "    </tr>\n",
       "    <tr>\n",
       "      <th>520</th>\n",
       "      <td>php</td>\n",
       "      <td>Kaunas</td>\n",
       "      <td>3</td>\n",
       "      <td>9</td>\n",
       "      <td>5000</td>\n",
       "    </tr>\n",
       "    <tr>\n",
       "      <th>239</th>\n",
       "      <td>php</td>\n",
       "      <td>Vilnius</td>\n",
       "      <td>3</td>\n",
       "      <td>10</td>\n",
       "      <td>5000</td>\n",
       "    </tr>\n",
       "    <tr>\n",
       "      <th>604</th>\n",
       "      <td>js</td>\n",
       "      <td>Vilnius</td>\n",
       "      <td>3</td>\n",
       "      <td>9</td>\n",
       "      <td>4660</td>\n",
       "    </tr>\n",
       "    <tr>\n",
       "      <th>113</th>\n",
       "      <td>java</td>\n",
       "      <td>Kaunas</td>\n",
       "      <td>3</td>\n",
       "      <td>10</td>\n",
       "      <td>4500</td>\n",
       "    </tr>\n",
       "  </tbody>\n",
       "</table>\n",
       "</div>"
      ],
      "text/plain": [
       "    language     city  level  years_of_experience  salary\n",
       "148       js  Vilnius      3                    6   14000\n",
       "702       js  Vilnius      3                    7    8400\n",
       "607     .net  Vilnius      3                   10    8000\n",
       "141      php  Vilnius      3                   10    7500\n",
       "733      php  Vilnius      3                    9    7000\n",
       "27        js  Vilnius      3                    9    6000\n",
       "304      php   Kaunas      3                    9    5500\n",
       "337      php  Vilnius      3                   10    5500\n",
       "736       js  Vilnius      3                   10    5300\n",
       "460       js  Vilnius      3                   10    5261\n",
       "233      php   Kaunas      3                   10    5000\n",
       "193      php  Vilnius      3                   10    5000\n",
       "54      java   Kaunas      3                   10    5000\n",
       "183      php  Vilnius      3                   10    5000\n",
       "383     java  Vilnius      3                   10    5000\n",
       "163     java  Vilnius      3                    5    5000\n",
       "520      php   Kaunas      3                    9    5000\n",
       "239      php  Vilnius      3                   10    5000\n",
       "604       js  Vilnius      3                    9    4660\n",
       "113     java   Kaunas      3                   10    4500"
      ]
     },
     "execution_count": 152,
     "metadata": {},
     "output_type": "execute_result"
    }
   ],
   "source": [
    "df_sorted = df.sort_values(by='salary', ascending=False)\n",
    "df_sorted.head(20)"
   ]
  },
  {
   "cell_type": "code",
   "execution_count": 153,
   "id": "0d35e71a-aeb5-4411-b92e-57c18f0db0c2",
   "metadata": {},
   "outputs": [
    {
     "data": {
      "text/plain": [
       "<matplotlib.collections.PathCollection at 0x146d3c920>"
      ]
     },
     "execution_count": 153,
     "metadata": {},
     "output_type": "execute_result"
    },
    {
     "data": {
      "image/png": "[encoded data removed]",
      "text/plain": [
       "<Figure size 640x480 with 1 Axes>"
      ]
     },
     "metadata": {},
     "output_type": "display_data"
    }
   ],
   "source": [
    "x = df.iloc[:, -2:-1]\n",
    "y = df.iloc[:,-1].values   \n",
    "plt.xlabel('Years of experience')\n",
    "plt.ylabel('Salary')\n",
    "plt.scatter(x, y)"
   ]
  },
  {
   "cell_type": "code",
   "execution_count": 154,
   "id": "3d397528-3d14-41eb-8637-075b73ba37ff",
   "metadata": {},
   "outputs": [
    {
     "data": {
      "text/plain": [
       "(518, 5)"
      ]
     },
     "execution_count": 154,
     "metadata": {},
     "output_type": "execute_result"
    }
   ],
   "source": [
    "df = df[df['salary'] <= 6000]\n",
    "df.shape"
   ]
  },
  {
   "cell_type": "code",
   "execution_count": 155,
   "id": "331d0c48-2c16-4e29-b653-aa8b3688452f",
   "metadata": {},
   "outputs": [
    {
     "data": {
      "text/plain": [
       "<matplotlib.collections.PathCollection at 0x146d54410>"
      ]
     },
     "execution_count": 155,
     "metadata": {},
     "output_type": "execute_result"
    },
    {
     "data": {
      "image/png": "[encoded data removed]",
      "text/plain": [
       "<Figure size 640x480 with 1 Axes>"
      ]
     },
     "metadata": {},
     "output_type": "display_data"
    }
   ],
   "source": [
    "x = df.iloc[:, -2:-1]\n",
    "y = df.iloc[:,-1].values   \n",
    "plt.xlabel('Years of experience')\n",
    "plt.ylabel('Salary')\n",
    "plt.scatter(x, y)"
   ]
  },
  {
   "cell_type": "code",
   "execution_count": 156,
   "id": "4737fc36-d981-430d-9571-a7abf7b9801b",
   "metadata": {},
   "outputs": [
    {
     "data": {
      "text/html": [
       "<div>\n",
       "<style scoped>\n",
       "    .dataframe tbody tr th:only-of-type {\n",
       "        vertical-align: middle;\n",
       "    }\n",
       "\n",
       "    .dataframe tbody tr th {\n",
       "        vertical-align: top;\n",
       "    }\n",
       "\n",
       "    .dataframe thead th {\n",
       "        text-align: right;\n",
       "    }\n",
       "</style>\n",
       "<table border=\"1\" class=\"dataframe\">\n",
       "  <thead>\n",
       "    <tr style=\"text-align: right;\">\n",
       "      <th></th>\n",
       "      <th>level</th>\n",
       "      <th>years_of_experience</th>\n",
       "      <th>salary</th>\n",
       "      <th>lang_.net</th>\n",
       "      <th>lang_java</th>\n",
       "      <th>lang_js</th>\n",
       "      <th>lang_php</th>\n",
       "      <th>city_Kaunas</th>\n",
       "      <th>city_Vilnius</th>\n",
       "    </tr>\n",
       "  </thead>\n",
       "  <tbody>\n",
       "    <tr>\n",
       "      <th>2</th>\n",
       "      <td>3</td>\n",
       "      <td>10</td>\n",
       "      <td>2800</td>\n",
       "      <td>False</td>\n",
       "      <td>False</td>\n",
       "      <td>False</td>\n",
       "      <td>True</td>\n",
       "      <td>False</td>\n",
       "      <td>True</td>\n",
       "    </tr>\n",
       "    <tr>\n",
       "      <th>3</th>\n",
       "      <td>3</td>\n",
       "      <td>10</td>\n",
       "      <td>3400</td>\n",
       "      <td>False</td>\n",
       "      <td>False</td>\n",
       "      <td>False</td>\n",
       "      <td>True</td>\n",
       "      <td>False</td>\n",
       "      <td>True</td>\n",
       "    </tr>\n",
       "    <tr>\n",
       "      <th>4</th>\n",
       "      <td>3</td>\n",
       "      <td>10</td>\n",
       "      <td>2500</td>\n",
       "      <td>False</td>\n",
       "      <td>True</td>\n",
       "      <td>False</td>\n",
       "      <td>False</td>\n",
       "      <td>False</td>\n",
       "      <td>True</td>\n",
       "    </tr>\n",
       "    <tr>\n",
       "      <th>5</th>\n",
       "      <td>2</td>\n",
       "      <td>4</td>\n",
       "      <td>2100</td>\n",
       "      <td>False</td>\n",
       "      <td>False</td>\n",
       "      <td>False</td>\n",
       "      <td>True</td>\n",
       "      <td>True</td>\n",
       "      <td>False</td>\n",
       "    </tr>\n",
       "    <tr>\n",
       "      <th>7</th>\n",
       "      <td>1</td>\n",
       "      <td>1</td>\n",
       "      <td>1181</td>\n",
       "      <td>True</td>\n",
       "      <td>False</td>\n",
       "      <td>False</td>\n",
       "      <td>False</td>\n",
       "      <td>False</td>\n",
       "      <td>True</td>\n",
       "    </tr>\n",
       "    <tr>\n",
       "      <th>8</th>\n",
       "      <td>3</td>\n",
       "      <td>8</td>\n",
       "      <td>3500</td>\n",
       "      <td>False</td>\n",
       "      <td>False</td>\n",
       "      <td>False</td>\n",
       "      <td>True</td>\n",
       "      <td>False</td>\n",
       "      <td>True</td>\n",
       "    </tr>\n",
       "    <tr>\n",
       "      <th>9</th>\n",
       "      <td>2</td>\n",
       "      <td>2</td>\n",
       "      <td>1800</td>\n",
       "      <td>True</td>\n",
       "      <td>False</td>\n",
       "      <td>False</td>\n",
       "      <td>False</td>\n",
       "      <td>True</td>\n",
       "      <td>False</td>\n",
       "    </tr>\n",
       "    <tr>\n",
       "      <th>10</th>\n",
       "      <td>1</td>\n",
       "      <td>5</td>\n",
       "      <td>1800</td>\n",
       "      <td>False</td>\n",
       "      <td>False</td>\n",
       "      <td>False</td>\n",
       "      <td>True</td>\n",
       "      <td>True</td>\n",
       "      <td>False</td>\n",
       "    </tr>\n",
       "    <tr>\n",
       "      <th>13</th>\n",
       "      <td>2</td>\n",
       "      <td>5</td>\n",
       "      <td>2700</td>\n",
       "      <td>False</td>\n",
       "      <td>False</td>\n",
       "      <td>False</td>\n",
       "      <td>True</td>\n",
       "      <td>False</td>\n",
       "      <td>True</td>\n",
       "    </tr>\n",
       "    <tr>\n",
       "      <th>15</th>\n",
       "      <td>2</td>\n",
       "      <td>10</td>\n",
       "      <td>2000</td>\n",
       "      <td>False</td>\n",
       "      <td>False</td>\n",
       "      <td>True</td>\n",
       "      <td>False</td>\n",
       "      <td>True</td>\n",
       "      <td>False</td>\n",
       "    </tr>\n",
       "  </tbody>\n",
       "</table>\n",
       "</div>"
      ],
      "text/plain": [
       "    level  years_of_experience  salary  lang_.net  lang_java  lang_js  \\\n",
       "2       3                   10    2800      False      False    False   \n",
       "3       3                   10    3400      False      False    False   \n",
       "4       3                   10    2500      False       True    False   \n",
       "5       2                    4    2100      False      False    False   \n",
       "7       1                    1    1181       True      False    False   \n",
       "8       3                    8    3500      False      False    False   \n",
       "9       2                    2    1800       True      False    False   \n",
       "10      1                    5    1800      False      False    False   \n",
       "13      2                    5    2700      False      False    False   \n",
       "15      2                   10    2000      False      False     True   \n",
       "\n",
       "    lang_php  city_Kaunas  city_Vilnius  \n",
       "2       True        False          True  \n",
       "3       True        False          True  \n",
       "4      False        False          True  \n",
       "5       True         True         False  \n",
       "7      False        False          True  \n",
       "8       True        False          True  \n",
       "9      False         True         False  \n",
       "10      True         True         False  \n",
       "13      True        False          True  \n",
       "15     False         True         False  "
      ]
     },
     "execution_count": 156,
     "metadata": {},
     "output_type": "execute_result"
    }
   ],
   "source": [
    "one_hot = pd.get_dummies(df['language'], prefix='lang') \n",
    "df = df.join(one_hot)\n",
    "df = df.drop('language', axis=1)\n",
    "\n",
    "one_hot = pd.get_dummies(df['city'], prefix='city') \n",
    "df = df.join(one_hot)\n",
    "df = df.drop('city', axis=1)\n",
    "\n",
    "df.head(10)"
   ]
  },
  {
   "cell_type": "code",
   "execution_count": 157,
   "id": "b161f5a7-b4d2-44ee-b957-3fc659141160",
   "metadata": {},
   "outputs": [
    {
     "data": {
      "image/png": "[encoded data removed]",
      "text/plain": [
       "<Figure size 640x480 with 2 Axes>"
      ]
     },
     "metadata": {},
     "output_type": "display_data"
    }
   ],
   "source": [
    "sns.heatmap(df.corr(), annot=True);"
   ]
  },
  {
   "cell_type": "code",
   "execution_count": 158,
   "id": "34b28b0f-f6aa-47fe-a4d5-d7f702d079e8",
   "metadata": {},
   "outputs": [
    {
     "data": {
      "text/plain": [
       "array([[ 3, 10],\n",
       "       [ 3, 10],\n",
       "       [ 3, 10],\n",
       "       [ 2,  4],\n",
       "       [ 1,  1]])"
      ]
     },
     "execution_count": 158,
     "metadata": {},
     "output_type": "execute_result"
    }
   ],
   "source": [
    "x = df.iloc[:,0:2].values  # get all rows with all columns except the last one\n",
    "y = df.iloc[:,2].values   # get all rows with only the last column\n",
    "x[0:5]"
   ]
  },
  {
   "cell_type": "code",
   "execution_count": 159,
   "id": "fe355b3e-9c8e-4322-976b-0d599346dbf2",
   "metadata": {},
   "outputs": [
    {
     "data": {
      "text/plain": [
       "array([2800, 3400, 2500, 2100, 1181])"
      ]
     },
     "execution_count": 159,
     "metadata": {},
     "output_type": "execute_result"
    }
   ],
   "source": [
    "y[0:5]"
   ]
  },
  {
   "cell_type": "code",
   "execution_count": 160,
   "id": "83186f78-d84a-4707-ba68-61d03ed37cad",
   "metadata": {},
   "outputs": [
    {
     "data": {
      "text/plain": [
       "(414, 2)"
      ]
     },
     "execution_count": 160,
     "metadata": {},
     "output_type": "execute_result"
    }
   ],
   "source": [
    "from sklearn.model_selection import train_test_split\n",
    "x_train,x_test,y_train,y_test = train_test_split(x,y,test_size=0.2,random_state=0)\n",
    "x_train.shape"
   ]
  },
  {
   "cell_type": "code",
   "execution_count": 161,
   "id": "d2b1f752-f2bf-4bea-92e9-07ff6e6d652e",
   "metadata": {},
   "outputs": [],
   "source": [
    "from sklearn.linear_model import LinearRegression\n",
    "model = LinearRegression()"
   ]
  },
  {
   "cell_type": "code",
   "execution_count": 162,
   "id": "5dea0529-fb9c-42b7-beee-77eb1f48192a",
   "metadata": {},
   "outputs": [
    {
     "data": {
      "text/html": [
       "<style>#sk-container-id-7 {color: black;}#sk-container-id-7 pre{padding: 0;}#sk-container-id-7 div.sk-toggleable {background-color: white;}#sk-container-id-7 label.sk-toggleable__label {cursor: pointer;display: block;width: 100%;margin-bottom: 0;padding: 0.3em;box-sizing: border-box;text-align: center;}#sk-container-id-7 label.sk-toggleable__label-arrow:before {content: \"▸\";float: left;margin-right: 0.25em;color: #696969;}#sk-container-id-7 label.sk-toggleable__label-arrow:hover:before {color: black;}#sk-container-id-7 div.sk-estimator:hover label.sk-toggleable__label-arrow:before {color: black;}#sk-container-id-7 div.sk-toggleable__content {max-height: 0;max-width: 0;overflow: hidden;text-align: left;background-color: #f0f8ff;}#sk-container-id-7 div.sk-toggleable__content pre {margin: 0.2em;color: black;border-radius: 0.25em;background-color: #f0f8ff;}#sk-container-id-7 input.sk-toggleable__control:checked~div.sk-toggleable__content {max-height: 200px;max-width: 100%;overflow: auto;}#sk-container-id-7 input.sk-toggleable__control:checked~label.sk-toggleable__label-arrow:before {content: \"▾\";}#sk-container-id-7 div.sk-estimator input.sk-toggleable__control:checked~label.sk-toggleable__label {background-color: #d4ebff;}#sk-container-id-7 div.sk-label input.sk-toggleable__control:checked~label.sk-toggleable__label {background-color: #d4ebff;}#sk-container-id-7 input.sk-hidden--visually {border: 0;clip: rect(1px 1px 1px 1px);clip: rect(1px, 1px, 1px, 1px);height: 1px;margin: -1px;overflow: hidden;padding: 0;position: absolute;width: 1px;}#sk-container-id-7 div.sk-estimator {font-family: monospace;background-color: #f0f8ff;border: 1px dotted black;border-radius: 0.25em;box-sizing: border-box;margin-bottom: 0.5em;}#sk-container-id-7 div.sk-estimator:hover {background-color: #d4ebff;}#sk-container-id-7 div.sk-parallel-item::after {content: \"\";width: 100%;border-bottom: 1px solid gray;flex-grow: 1;}#sk-container-id-7 div.sk-label:hover label.sk-toggleable__label {background-color: #d4ebff;}#sk-container-id-7 div.sk-serial::before {content: \"\";position: absolute;border-left: 1px solid gray;box-sizing: border-box;top: 0;bottom: 0;left: 50%;z-index: 0;}#sk-container-id-7 div.sk-serial {display: flex;flex-direction: column;align-items: center;background-color: white;padding-right: 0.2em;padding-left: 0.2em;position: relative;}#sk-container-id-7 div.sk-item {position: relative;z-index: 1;}#sk-container-id-7 div.sk-parallel {display: flex;align-items: stretch;justify-content: center;background-color: white;position: relative;}#sk-container-id-7 div.sk-item::before, #sk-container-id-7 div.sk-parallel-item::before {content: \"\";position: absolute;border-left: 1px solid gray;box-sizing: border-box;top: 0;bottom: 0;left: 50%;z-index: -1;}#sk-container-id-7 div.sk-parallel-item {display: flex;flex-direction: column;z-index: 1;position: relative;background-color: white;}#sk-container-id-7 div.sk-parallel-item:first-child::after {align-self: flex-end;width: 50%;}#sk-container-id-7 div.sk-parallel-item:last-child::after {align-self: flex-start;width: 50%;}#sk-container-id-7 div.sk-parallel-item:only-child::after {width: 0;}#sk-container-id-7 div.sk-dashed-wrapped {border: 1px dashed gray;margin: 0 0.4em 0.5em 0.4em;box-sizing: border-box;padding-bottom: 0.4em;background-color: white;}#sk-container-id-7 div.sk-label label {font-family: monospace;font-weight: bold;display: inline-block;line-height: 1.2em;}#sk-container-id-7 div.sk-label-container {text-align: center;}#sk-container-id-7 div.sk-container {/* jupyter's `normalize.less` sets `[hidden] { display: none; }` but bootstrap.min.css set `[hidden] { display: none !important; }` so we also need the `!important` here to be able to override the default hidden behavior on the sphinx rendered scikit-learn.org. See: https://github.com/scikit-learn/scikit-learn/issues/21755 */display: inline-block !important;position: relative;}#sk-container-id-7 div.sk-text-repr-fallback {display: none;}</style><div id=\"sk-container-id-7\" class=\"sk-top-container\"><div class=\"sk-text-repr-fallback\"><pre>LinearRegression()</pre><b>In a Jupyter environment, please rerun this cell to show the HTML representation or trust the notebook. <br />On GitHub, the HTML representation is unable to render, please try loading this page with nbviewer.org.</b></div><div class=\"sk-container\" hidden><div class=\"sk-item\"><div class=\"sk-estimator sk-toggleable\"><input class=\"sk-toggleable__control sk-hidden--visually\" id=\"sk-estimator-id-7\" type=\"checkbox\" checked><label for=\"sk-estimator-id-7\" class=\"sk-toggleable__label sk-toggleable__label-arrow\">LinearRegression</label><div class=\"sk-toggleable__content\"><pre>LinearRegression()</pre></div></div></div></div></div>"
      ],
      "text/plain": [
       "LinearRegression()"
      ]
     },
     "execution_count": 162,
     "metadata": {},
     "output_type": "execute_result"
    }
   ],
   "source": [
    "model.fit(x_train, y_train)"
   ]
  },
  {
   "cell_type": "code",
   "execution_count": 163,
   "id": "c24a6004-3a5f-4c80-8738-8991413b7b78",
   "metadata": {},
   "outputs": [
    {
     "data": {
      "text/plain": [
       "array([1199.71172545, 3090.85570562, 1199.71172545, 2446.32022189,\n",
       "       1199.71172545, 3191.20120774, 2245.62921766, 1199.71172545,\n",
       "       2647.01122613, 2245.62921766, 2044.93821342, 1300.05722757,\n",
       "       3592.58321622, 3191.20120774, 2145.28371554, 1199.71172545,\n",
       "       2647.01122613, 3291.54670986, 3191.20120774, 2044.93821342,\n",
       "       3391.89221198, 2044.93821342, 3191.20120774, 3090.85570562,\n",
       "       1199.71172545, 3090.85570562, 3592.58321622, 1199.71172545,\n",
       "       2245.62921766, 3592.58321622, 2145.28371554, 2145.28371554,\n",
       "       3391.89221198, 1199.71172545, 3592.58321622, 2145.28371554,\n",
       "       2145.28371554, 2245.62921766, 3592.58321622, 1400.40272969,\n",
       "       2145.28371554, 2145.28371554, 3391.89221198, 3592.58321622,\n",
       "       1944.5927113 , 2847.70223037, 1300.05722757, 1199.71172545,\n",
       "       1199.71172545, 3492.2377141 , 1300.05722757, 1944.5927113 ,\n",
       "       1300.05722757, 2446.32022189, 2245.62921766, 3592.58321622,\n",
       "       1300.05722757, 2446.32022189, 2145.28371554, 1300.05722757,\n",
       "       2145.28371554, 3592.58321622, 3592.58321622, 1199.71172545,\n",
       "       1500.74823181, 1944.5927113 , 2245.62921766, 2446.32022189,\n",
       "       1300.05722757, 2446.32022189, 3391.89221198, 3191.20120774,\n",
       "       2546.66572401, 2345.97471978, 2044.93821342, 3391.89221198,\n",
       "       2245.62921766, 2145.28371554, 2044.93821342, 3592.58321622,\n",
       "       2890.16470138, 2345.97471978, 2145.28371554, 3592.58321622,\n",
       "       2847.70223037, 3391.89221198, 2345.97471978, 2245.62921766,\n",
       "       3492.2377141 , 2446.32022189, 2145.28371554, 2847.70223037,\n",
       "       3592.58321622, 2345.97471978, 3592.58321622, 2345.97471978,\n",
       "       2345.97471978, 3291.54670986, 2245.62921766, 2044.93821342,\n",
       "       3291.54670986, 3492.2377141 , 2245.62921766, 2245.62921766])"
      ]
     },
     "execution_count": 163,
     "metadata": {},
     "output_type": "execute_result"
    }
   ],
   "source": [
    "y_pred = model.predict(x_test)\n",
    "y_pred"
   ]
  },
  {
   "cell_type": "code",
   "execution_count": 164,
   "id": "5370c4e4-1896-44b0-a97f-7de8f90d5089",
   "metadata": {},
   "outputs": [
    {
     "data": {
      "text/plain": [
       "array([3793.27422045, 1199.71172545])"
      ]
     },
     "execution_count": 164,
     "metadata": {},
     "output_type": "execute_result"
    }
   ],
   "source": [
    "salaries = model.predict([[3, 12], [1, 1]])\n",
    "salaries"
   ]
  },
  {
   "cell_type": "code",
   "execution_count": 165,
   "id": "c2a465f5-9c89-450b-97d3-f8871024f0b3",
   "metadata": {},
   "outputs": [
    {
     "name": "stdout",
     "output_type": "stream",
     "text": [
      "R2 Score: 0.6311227637903979 (63.11%)\n"
     ]
    }
   ],
   "source": [
    "from sklearn.metrics import r2_score\n",
    "r2 = r2_score(y_test, y_pred)                           \n",
    "\n",
    "print(f\"R2 Score: {r2} ({r2:.2%})\")"
   ]
  }
 ],
 "metadata": {
  "kernelspec": {
   "display_name": "Python 3 (ipykernel)",
   "language": "python",
   "name": "python3"
  },
  "language_info": {
   "codemirror_mode": {
    "name": "ipython",
    "version": 3
   },
   "file_extension": ".py",
   "mimetype": "text/x-python",
   "name": "python",
   "nbconvert_exporter": "python",
   "pygments_lexer": "ipython3",
   "version": "3.12.0"
  }
 },
 "nbformat": 4,
 "nbformat_minor": 5
}
